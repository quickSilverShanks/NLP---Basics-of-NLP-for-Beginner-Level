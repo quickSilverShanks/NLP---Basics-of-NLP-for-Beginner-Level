{
 "cells": [
  {
   "cell_type": "code",
   "execution_count": 6,
   "metadata": {},
   "outputs": [],
   "source": [
    "import pandas as pd\n",
    "import numpy as np\n",
    "from sklearn.model_selection import train_test_split\n",
    "import re\n",
    "import nltk\n",
    "from nltk.stem import WordNetLemmatizer\n",
    "from nltk.corpus import stopwords\n",
    "from category_encoders.woe import WOEEncoder\n",
    "import pickle\n",
    "from sklearn.feature_extraction.text import TfidfVectorizer\n",
    "#nltk.download('stopwords')\n",
    "from sklearn.decomposition import TruncatedSVD\n",
    "\n",
    "from sklearn.ensemble import RandomForestClassifier\n",
    "from sklearn.metrics import accuracy_score\n",
    "import seaborn as sns\n",
    "%matplotlib inline"
   ]
  },
  {
   "cell_type": "markdown",
   "metadata": {},
   "source": [
    "### Data Import"
   ]
  },
  {
   "cell_type": "code",
   "execution_count": 2,
   "metadata": {},
   "outputs": [
    {
     "name": "stdout",
     "output_type": "stream",
     "text": [
      "Data Import Done : (17494, 5)\n",
      "Data Import Done : (64, 5)\n",
      "Data Import Done : (8045, 4)\n"
     ]
    }
   ],
   "source": [
    "train_a = pd.read_csv('./data/train/train.csv')\n",
    "train_b = pd.read_csv('./data/train/game_overview.csv')\n",
    "test = pd.read_csv('./data/test/test.csv')\n",
    "print(\"Data Import Done :\",train_a.shape)\n",
    "print(\"Data Import Done :\",train_b.shape)\n",
    "print(\"Data Import Done :\",test.shape)"
   ]
  },
  {
   "cell_type": "code",
   "execution_count": 3,
   "metadata": {
    "collapsed": true
   },
   "outputs": [
    {
     "data": {
      "text/html": [
       "<div>\n",
       "<style scoped>\n",
       "    .dataframe tbody tr th:only-of-type {\n",
       "        vertical-align: middle;\n",
       "    }\n",
       "\n",
       "    .dataframe tbody tr th {\n",
       "        vertical-align: top;\n",
       "    }\n",
       "\n",
       "    .dataframe thead th {\n",
       "        text-align: right;\n",
       "    }\n",
       "</style>\n",
       "<table border=\"1\" class=\"dataframe\">\n",
       "  <thead>\n",
       "    <tr style=\"text-align: right;\">\n",
       "      <th></th>\n",
       "      <th>review_id</th>\n",
       "      <th>title</th>\n",
       "      <th>year</th>\n",
       "      <th>user_review</th>\n",
       "      <th>user_suggestion</th>\n",
       "    </tr>\n",
       "  </thead>\n",
       "  <tbody>\n",
       "    <tr>\n",
       "      <th>0</th>\n",
       "      <td>1</td>\n",
       "      <td>Spooky's Jump Scare Mansion</td>\n",
       "      <td>2016.0</td>\n",
       "      <td>I'm scared and hearing creepy voices.  So I'll...</td>\n",
       "      <td>1</td>\n",
       "    </tr>\n",
       "    <tr>\n",
       "      <th>1</th>\n",
       "      <td>2</td>\n",
       "      <td>Spooky's Jump Scare Mansion</td>\n",
       "      <td>2016.0</td>\n",
       "      <td>Best game, more better than Sam Pepper's YouTu...</td>\n",
       "      <td>1</td>\n",
       "    </tr>\n",
       "    <tr>\n",
       "      <th>2</th>\n",
       "      <td>3</td>\n",
       "      <td>Spooky's Jump Scare Mansion</td>\n",
       "      <td>2016.0</td>\n",
       "      <td>A littly iffy on the controls, but once you kn...</td>\n",
       "      <td>1</td>\n",
       "    </tr>\n",
       "    <tr>\n",
       "      <th>3</th>\n",
       "      <td>4</td>\n",
       "      <td>Spooky's Jump Scare Mansion</td>\n",
       "      <td>2015.0</td>\n",
       "      <td>Great game, fun and colorful and all that.A si...</td>\n",
       "      <td>1</td>\n",
       "    </tr>\n",
       "    <tr>\n",
       "      <th>4</th>\n",
       "      <td>5</td>\n",
       "      <td>Spooky's Jump Scare Mansion</td>\n",
       "      <td>2015.0</td>\n",
       "      <td>Not many games have the cute tag right next to...</td>\n",
       "      <td>1</td>\n",
       "    </tr>\n",
       "  </tbody>\n",
       "</table>\n",
       "</div>"
      ],
      "text/plain": [
       "   review_id                        title    year  \\\n",
       "0          1  Spooky's Jump Scare Mansion  2016.0   \n",
       "1          2  Spooky's Jump Scare Mansion  2016.0   \n",
       "2          3  Spooky's Jump Scare Mansion  2016.0   \n",
       "3          4  Spooky's Jump Scare Mansion  2015.0   \n",
       "4          5  Spooky's Jump Scare Mansion  2015.0   \n",
       "\n",
       "                                         user_review  user_suggestion  \n",
       "0  I'm scared and hearing creepy voices.  So I'll...                1  \n",
       "1  Best game, more better than Sam Pepper's YouTu...                1  \n",
       "2  A littly iffy on the controls, but once you kn...                1  \n",
       "3  Great game, fun and colorful and all that.A si...                1  \n",
       "4  Not many games have the cute tag right next to...                1  "
      ]
     },
     "execution_count": 3,
     "metadata": {},
     "output_type": "execute_result"
    }
   ],
   "source": [
    "train_a.head()"
   ]
  },
  {
   "cell_type": "code",
   "execution_count": 4,
   "metadata": {
    "collapsed": true
   },
   "outputs": [
    {
     "data": {
      "text/html": [
       "<div>\n",
       "<style scoped>\n",
       "    .dataframe tbody tr th:only-of-type {\n",
       "        vertical-align: middle;\n",
       "    }\n",
       "\n",
       "    .dataframe tbody tr th {\n",
       "        vertical-align: top;\n",
       "    }\n",
       "\n",
       "    .dataframe thead th {\n",
       "        text-align: right;\n",
       "    }\n",
       "</style>\n",
       "<table border=\"1\" class=\"dataframe\">\n",
       "  <thead>\n",
       "    <tr style=\"text-align: right;\">\n",
       "      <th></th>\n",
       "      <th>title</th>\n",
       "      <th>developer</th>\n",
       "      <th>publisher</th>\n",
       "      <th>tags</th>\n",
       "      <th>overview</th>\n",
       "    </tr>\n",
       "  </thead>\n",
       "  <tbody>\n",
       "    <tr>\n",
       "      <th>0</th>\n",
       "      <td>Spooky's Jump Scare Mansion</td>\n",
       "      <td>Lag Studios</td>\n",
       "      <td>Lag Studios</td>\n",
       "      <td>['Horror', 'Free to Play', 'Cute', 'First-Pers...</td>\n",
       "      <td>Can you survive 1000 rooms of cute terror? Or ...</td>\n",
       "    </tr>\n",
       "    <tr>\n",
       "      <th>1</th>\n",
       "      <td>Sakura Clicker</td>\n",
       "      <td>Winged Cloud</td>\n",
       "      <td>Winged Cloud</td>\n",
       "      <td>['Nudity', 'Anime', 'Free to Play', 'Mature', ...</td>\n",
       "      <td>The latest entry in the Sakura series is more ...</td>\n",
       "    </tr>\n",
       "    <tr>\n",
       "      <th>2</th>\n",
       "      <td>WARMODE</td>\n",
       "      <td>WARTEAM</td>\n",
       "      <td>WARTEAM</td>\n",
       "      <td>['Early Access', 'Free to Play', 'FPS', 'Multi...</td>\n",
       "      <td>Free to play shooter about the confrontation o...</td>\n",
       "    </tr>\n",
       "    <tr>\n",
       "      <th>3</th>\n",
       "      <td>Fractured Space</td>\n",
       "      <td>Edge Case Games Ltd.</td>\n",
       "      <td>Edge Case Games Ltd.</td>\n",
       "      <td>['Space', 'Multiplayer', 'Free to Play', 'PvP'...</td>\n",
       "      <td>Take the helm of a gigantic capital ship and g...</td>\n",
       "    </tr>\n",
       "    <tr>\n",
       "      <th>4</th>\n",
       "      <td>Counter-Strike: Global Offensive</td>\n",
       "      <td>Valve, Hidden Path Entertainment</td>\n",
       "      <td>Valve</td>\n",
       "      <td>['FPS', 'Multiplayer', 'Shooter', 'Action', 'T...</td>\n",
       "      <td>Counter-Strike: Global Offensive (CS: GO) expa...</td>\n",
       "    </tr>\n",
       "  </tbody>\n",
       "</table>\n",
       "</div>"
      ],
      "text/plain": [
       "                              title                          developer  \\\n",
       "0       Spooky's Jump Scare Mansion                       Lag Studios    \n",
       "1                    Sakura Clicker                      Winged Cloud    \n",
       "2                           WARMODE                           WARTEAM    \n",
       "3                   Fractured Space              Edge Case Games Ltd.    \n",
       "4  Counter-Strike: Global Offensive  Valve, Hidden Path Entertainment    \n",
       "\n",
       "               publisher                                               tags  \\\n",
       "0           Lag Studios   ['Horror', 'Free to Play', 'Cute', 'First-Pers...   \n",
       "1          Winged Cloud   ['Nudity', 'Anime', 'Free to Play', 'Mature', ...   \n",
       "2               WARTEAM   ['Early Access', 'Free to Play', 'FPS', 'Multi...   \n",
       "3  Edge Case Games Ltd.   ['Space', 'Multiplayer', 'Free to Play', 'PvP'...   \n",
       "4                 Valve   ['FPS', 'Multiplayer', 'Shooter', 'Action', 'T...   \n",
       "\n",
       "                                            overview  \n",
       "0  Can you survive 1000 rooms of cute terror? Or ...  \n",
       "1  The latest entry in the Sakura series is more ...  \n",
       "2  Free to play shooter about the confrontation o...  \n",
       "3  Take the helm of a gigantic capital ship and g...  \n",
       "4  Counter-Strike: Global Offensive (CS: GO) expa...  "
      ]
     },
     "execution_count": 4,
     "metadata": {},
     "output_type": "execute_result"
    }
   ],
   "source": [
    "train_b.head()"
   ]
  },
  {
   "cell_type": "code",
   "execution_count": 5,
   "metadata": {
    "collapsed": true
   },
   "outputs": [
    {
     "data": {
      "text/html": [
       "<div>\n",
       "<style scoped>\n",
       "    .dataframe tbody tr th:only-of-type {\n",
       "        vertical-align: middle;\n",
       "    }\n",
       "\n",
       "    .dataframe tbody tr th {\n",
       "        vertical-align: top;\n",
       "    }\n",
       "\n",
       "    .dataframe thead th {\n",
       "        text-align: right;\n",
       "    }\n",
       "</style>\n",
       "<table border=\"1\" class=\"dataframe\">\n",
       "  <thead>\n",
       "    <tr style=\"text-align: right;\">\n",
       "      <th></th>\n",
       "      <th>review_id</th>\n",
       "      <th>title</th>\n",
       "      <th>year</th>\n",
       "      <th>user_review</th>\n",
       "    </tr>\n",
       "  </thead>\n",
       "  <tbody>\n",
       "    <tr>\n",
       "      <th>0</th>\n",
       "      <td>1603</td>\n",
       "      <td>Counter-Strike: Global Offensive</td>\n",
       "      <td>2015.0</td>\n",
       "      <td>Nice graphics, new maps, weapons and models. B...</td>\n",
       "    </tr>\n",
       "    <tr>\n",
       "      <th>1</th>\n",
       "      <td>1604</td>\n",
       "      <td>Counter-Strike: Global Offensive</td>\n",
       "      <td>2018.0</td>\n",
       "      <td>I would not recommend getting into this at its...</td>\n",
       "    </tr>\n",
       "    <tr>\n",
       "      <th>2</th>\n",
       "      <td>1605</td>\n",
       "      <td>Counter-Strike: Global Offensive</td>\n",
       "      <td>2018.0</td>\n",
       "      <td>Edit 11/12/18I have tried playing CS:GO recent...</td>\n",
       "    </tr>\n",
       "    <tr>\n",
       "      <th>3</th>\n",
       "      <td>1606</td>\n",
       "      <td>Counter-Strike: Global Offensive</td>\n",
       "      <td>2015.0</td>\n",
       "      <td>The game is great. But the community is the wo...</td>\n",
       "    </tr>\n",
       "    <tr>\n",
       "      <th>4</th>\n",
       "      <td>1607</td>\n",
       "      <td>Counter-Strike: Global Offensive</td>\n",
       "      <td>2015.0</td>\n",
       "      <td>I thank TrulyRazor for buying this for me a lo...</td>\n",
       "    </tr>\n",
       "  </tbody>\n",
       "</table>\n",
       "</div>"
      ],
      "text/plain": [
       "   review_id                             title    year  \\\n",
       "0       1603  Counter-Strike: Global Offensive  2015.0   \n",
       "1       1604  Counter-Strike: Global Offensive  2018.0   \n",
       "2       1605  Counter-Strike: Global Offensive  2018.0   \n",
       "3       1606  Counter-Strike: Global Offensive  2015.0   \n",
       "4       1607  Counter-Strike: Global Offensive  2015.0   \n",
       "\n",
       "                                         user_review  \n",
       "0  Nice graphics, new maps, weapons and models. B...  \n",
       "1  I would not recommend getting into this at its...  \n",
       "2  Edit 11/12/18I have tried playing CS:GO recent...  \n",
       "3  The game is great. But the community is the wo...  \n",
       "4  I thank TrulyRazor for buying this for me a lo...  "
      ]
     },
     "execution_count": 5,
     "metadata": {},
     "output_type": "execute_result"
    }
   ],
   "source": [
    "test.head()"
   ]
  },
  {
   "cell_type": "code",
   "execution_count": 6,
   "metadata": {
    "collapsed": true
   },
   "outputs": [
    {
     "name": "stdout",
     "output_type": "stream",
     "text": [
      "Data Merged : (17494, 9)\n"
     ]
    },
    {
     "data": {
      "text/html": [
       "<div>\n",
       "<style scoped>\n",
       "    .dataframe tbody tr th:only-of-type {\n",
       "        vertical-align: middle;\n",
       "    }\n",
       "\n",
       "    .dataframe tbody tr th {\n",
       "        vertical-align: top;\n",
       "    }\n",
       "\n",
       "    .dataframe thead th {\n",
       "        text-align: right;\n",
       "    }\n",
       "</style>\n",
       "<table border=\"1\" class=\"dataframe\">\n",
       "  <thead>\n",
       "    <tr style=\"text-align: right;\">\n",
       "      <th></th>\n",
       "      <th>review_id</th>\n",
       "      <th>title</th>\n",
       "      <th>year</th>\n",
       "      <th>user_review</th>\n",
       "      <th>user_suggestion</th>\n",
       "      <th>developer</th>\n",
       "      <th>publisher</th>\n",
       "      <th>tags</th>\n",
       "      <th>overview</th>\n",
       "    </tr>\n",
       "  </thead>\n",
       "  <tbody>\n",
       "    <tr>\n",
       "      <th>0</th>\n",
       "      <td>1</td>\n",
       "      <td>Spooky's Jump Scare Mansion</td>\n",
       "      <td>2016.0</td>\n",
       "      <td>I'm scared and hearing creepy voices.  So I'll...</td>\n",
       "      <td>1</td>\n",
       "      <td>Lag Studios</td>\n",
       "      <td>Lag Studios</td>\n",
       "      <td>['Horror', 'Free to Play', 'Cute', 'First-Pers...</td>\n",
       "      <td>Can you survive 1000 rooms of cute terror? Or ...</td>\n",
       "    </tr>\n",
       "    <tr>\n",
       "      <th>1</th>\n",
       "      <td>2</td>\n",
       "      <td>Spooky's Jump Scare Mansion</td>\n",
       "      <td>2016.0</td>\n",
       "      <td>Best game, more better than Sam Pepper's YouTu...</td>\n",
       "      <td>1</td>\n",
       "      <td>Lag Studios</td>\n",
       "      <td>Lag Studios</td>\n",
       "      <td>['Horror', 'Free to Play', 'Cute', 'First-Pers...</td>\n",
       "      <td>Can you survive 1000 rooms of cute terror? Or ...</td>\n",
       "    </tr>\n",
       "    <tr>\n",
       "      <th>2</th>\n",
       "      <td>3</td>\n",
       "      <td>Spooky's Jump Scare Mansion</td>\n",
       "      <td>2016.0</td>\n",
       "      <td>A littly iffy on the controls, but once you kn...</td>\n",
       "      <td>1</td>\n",
       "      <td>Lag Studios</td>\n",
       "      <td>Lag Studios</td>\n",
       "      <td>['Horror', 'Free to Play', 'Cute', 'First-Pers...</td>\n",
       "      <td>Can you survive 1000 rooms of cute terror? Or ...</td>\n",
       "    </tr>\n",
       "    <tr>\n",
       "      <th>3</th>\n",
       "      <td>4</td>\n",
       "      <td>Spooky's Jump Scare Mansion</td>\n",
       "      <td>2015.0</td>\n",
       "      <td>Great game, fun and colorful and all that.A si...</td>\n",
       "      <td>1</td>\n",
       "      <td>Lag Studios</td>\n",
       "      <td>Lag Studios</td>\n",
       "      <td>['Horror', 'Free to Play', 'Cute', 'First-Pers...</td>\n",
       "      <td>Can you survive 1000 rooms of cute terror? Or ...</td>\n",
       "    </tr>\n",
       "    <tr>\n",
       "      <th>4</th>\n",
       "      <td>5</td>\n",
       "      <td>Spooky's Jump Scare Mansion</td>\n",
       "      <td>2015.0</td>\n",
       "      <td>Not many games have the cute tag right next to...</td>\n",
       "      <td>1</td>\n",
       "      <td>Lag Studios</td>\n",
       "      <td>Lag Studios</td>\n",
       "      <td>['Horror', 'Free to Play', 'Cute', 'First-Pers...</td>\n",
       "      <td>Can you survive 1000 rooms of cute terror? Or ...</td>\n",
       "    </tr>\n",
       "  </tbody>\n",
       "</table>\n",
       "</div>"
      ],
      "text/plain": [
       "   review_id                        title    year  \\\n",
       "0          1  Spooky's Jump Scare Mansion  2016.0   \n",
       "1          2  Spooky's Jump Scare Mansion  2016.0   \n",
       "2          3  Spooky's Jump Scare Mansion  2016.0   \n",
       "3          4  Spooky's Jump Scare Mansion  2015.0   \n",
       "4          5  Spooky's Jump Scare Mansion  2015.0   \n",
       "\n",
       "                                         user_review  user_suggestion  \\\n",
       "0  I'm scared and hearing creepy voices.  So I'll...                1   \n",
       "1  Best game, more better than Sam Pepper's YouTu...                1   \n",
       "2  A littly iffy on the controls, but once you kn...                1   \n",
       "3  Great game, fun and colorful and all that.A si...                1   \n",
       "4  Not many games have the cute tag right next to...                1   \n",
       "\n",
       "      developer     publisher  \\\n",
       "0  Lag Studios   Lag Studios    \n",
       "1  Lag Studios   Lag Studios    \n",
       "2  Lag Studios   Lag Studios    \n",
       "3  Lag Studios   Lag Studios    \n",
       "4  Lag Studios   Lag Studios    \n",
       "\n",
       "                                                tags  \\\n",
       "0  ['Horror', 'Free to Play', 'Cute', 'First-Pers...   \n",
       "1  ['Horror', 'Free to Play', 'Cute', 'First-Pers...   \n",
       "2  ['Horror', 'Free to Play', 'Cute', 'First-Pers...   \n",
       "3  ['Horror', 'Free to Play', 'Cute', 'First-Pers...   \n",
       "4  ['Horror', 'Free to Play', 'Cute', 'First-Pers...   \n",
       "\n",
       "                                            overview  \n",
       "0  Can you survive 1000 rooms of cute terror? Or ...  \n",
       "1  Can you survive 1000 rooms of cute terror? Or ...  \n",
       "2  Can you survive 1000 rooms of cute terror? Or ...  \n",
       "3  Can you survive 1000 rooms of cute terror? Or ...  \n",
       "4  Can you survive 1000 rooms of cute terror? Or ...  "
      ]
     },
     "execution_count": 6,
     "metadata": {},
     "output_type": "execute_result"
    }
   ],
   "source": [
    "train = train_a.merge(train_b, on=['title'], how='left')\n",
    "print(\"Data Merged :\", train.shape)\n",
    "train.head()"
   ]
  },
  {
   "cell_type": "code",
   "execution_count": 7,
   "metadata": {},
   "outputs": [
    {
     "data": {
      "text/plain": [
       "review_id            0\n",
       "title                0\n",
       "year               178\n",
       "user_review          0\n",
       "user_suggestion      0\n",
       "developer            0\n",
       "publisher            0\n",
       "tags                 0\n",
       "overview             0\n",
       "dtype: int64"
      ]
     },
     "execution_count": 7,
     "metadata": {},
     "output_type": "execute_result"
    }
   ],
   "source": [
    "train.isna().sum() #so, year is missing in 178 reviews."
   ]
  },
  {
   "cell_type": "code",
   "execution_count": 8,
   "metadata": {
    "collapsed": true
   },
   "outputs": [
    {
     "data": {
      "text/plain": [
       "Ring of Elysium                                       24\n",
       "War Thunder                                           17\n",
       "Bless Online                                          12\n",
       "Realm Royale                                          11\n",
       "Eternal Card Game                                     11\n",
       "Cuisine Royale                                         9\n",
       "Heroes & Generals                                      8\n",
       "The Elder Scrolls®: Legends™                           7\n",
       "Yu-Gi-Oh! Duel Links                                   7\n",
       "Bloons TD Battles                                      7\n",
       "Creativerse                                            6\n",
       "DCS World Steam Edition                                6\n",
       "Team Fortress 2                                        5\n",
       "World of Tanks Blitz                                   5\n",
       "Dota 2                                                 5\n",
       "AdventureQuest 3D                                      5\n",
       "Tactical Monsters Rumble Arena                         4\n",
       "Path of Exile                                          3\n",
       "Brawlhalla                                             3\n",
       "RaceRoom Racing Experience                             3\n",
       "SMITE®                                                 3\n",
       "Realm Grinder                                          2\n",
       "EverQuest II                                           2\n",
       "PlanetSide 2                                           2\n",
       "Fallout Shelter                                        2\n",
       "Trove                                                  2\n",
       "Robocraft                                              2\n",
       "Neverwinter                                            1\n",
       "Shop Heroes                                            1\n",
       "theHunter Classic                                      1\n",
       "Business Tour - Board Game with Online Multiplayer     1\n",
       "Fractured Space                                        1\n",
       "Name: title, dtype: int64"
      ]
     },
     "execution_count": 8,
     "metadata": {},
     "output_type": "execute_result"
    }
   ],
   "source": [
    "train[train['year'].isna()]['title'].value_counts() #missing year will be assigned the median year for its title"
   ]
  },
  {
   "cell_type": "code",
   "execution_count": 9,
   "metadata": {},
   "outputs": [
    {
     "data": {
      "text/plain": [
       "(32,)"
      ]
     },
     "execution_count": 9,
     "metadata": {},
     "output_type": "execute_result"
    }
   ],
   "source": [
    "title_with_missingyear = list(train[train['year'].isna()]['title'].unique())\n",
    "MVI_data = train[train['title'].isin(title_with_missingyear)].groupby(['title'])['year'].median()\n",
    "MVI_data.shape #series with title as index and its median year as value"
   ]
  },
  {
   "cell_type": "code",
   "execution_count": 231,
   "metadata": {},
   "outputs": [],
   "source": [
    "MVI_data.to_pickle('MVI_data.pkl')"
   ]
  },
  {
   "cell_type": "code",
   "execution_count": 10,
   "metadata": {
    "collapsed": true
   },
   "outputs": [
    {
     "data": {
      "text/plain": [
       "review_id          0\n",
       "title              0\n",
       "year               0\n",
       "user_review        0\n",
       "user_suggestion    0\n",
       "developer          0\n",
       "publisher          0\n",
       "tags               0\n",
       "overview           0\n",
       "dtype: int64"
      ]
     },
     "execution_count": 10,
     "metadata": {},
     "output_type": "execute_result"
    }
   ],
   "source": [
    "# train_v2 is train data with MVI for year\n",
    "train_v2 = train.copy()\n",
    "train_v2['year']=np.where(train['year'].isna(), MVI_data[train['title']], train['year'])\n",
    "train_v2.isna().sum()"
   ]
  },
  {
   "cell_type": "markdown",
   "metadata": {},
   "source": [
    "### Review Text Preprocessing"
   ]
  },
  {
   "cell_type": "code",
   "execution_count": 11,
   "metadata": {},
   "outputs": [],
   "source": [
    "# Adding new features(to make sure we don't lose any important information while cleaning review)\n",
    "train_v2['link_cnt'] = train_v2['user_review'].apply(lambda x : len(re.findall(r'https?:\\/\\/.*', x.lower())))\n",
    "train_v2['word_cnt'] = train_v2['user_review'].apply(lambda x : len(nltk.word_tokenize(x)))\n",
    "train_v2['sent_cnt'] = train_v2['user_review'].apply(lambda x : len(nltk.sent_tokenize(x)))"
   ]
  },
  {
   "cell_type": "code",
   "execution_count": 12,
   "metadata": {},
   "outputs": [],
   "source": [
    "def decontract(phrase):\n",
    "    phrase = re.sub(r\"n\\'t\", \" not\", phrase)\n",
    "    phrase = re.sub(r\"\\'re\", \" are\", phrase)\n",
    "    phrase = re.sub(r\"\\'s\", \" is\", phrase)\n",
    "    phrase = re.sub(r\"\\'d\", \" would\", phrase)\n",
    "    phrase = re.sub(r\"\\'ll\", \" will\", phrase)\n",
    "    phrase = re.sub(r\"\\'t\", \" not\", phrase)\n",
    "    phrase = re.sub(r\"\\'ve\", \" have\", phrase)\n",
    "    phrase = re.sub(r\"\\'m\", \" am\", phrase)\n",
    "    return phrase"
   ]
  },
  {
   "cell_type": "code",
   "execution_count": 13,
   "metadata": {},
   "outputs": [],
   "source": [
    "def clean(phrase):\n",
    "    phrase = phrase.lower()\n",
    "    phrase = decontract(phrase)\n",
    "    phrase = re.sub(r'https?:\\/\\/.*', ' ', phrase)\n",
    "    phrase = re.sub(r'\\W', ' ', phrase)\n",
    "    phrase = re.sub(r'\\d', ' ', phrase)\n",
    "    phrase = re.sub(r'\\s+', ' ', phrase)\n",
    "    phrase = re.sub(r'\\s+$', ' ', phrase)\n",
    "    phrase = re.sub(r'^\\s+', ' ', phrase)\n",
    "    return phrase"
   ]
  },
  {
   "cell_type": "code",
   "execution_count": 14,
   "metadata": {},
   "outputs": [],
   "source": [
    "def lemmzify(sentn):\n",
    "    lemmz = WordNetLemmatizer()\n",
    "    lem_words=[]\n",
    "    for word in nltk.word_tokenize(sentn):\n",
    "        if word not in stopwords.words('english'):\n",
    "            lem_words.append(lemmz.lemmatize(word))\n",
    "    lem_text = ' '.join(lem_words)\n",
    "    return lem_text\n",
    "# autocorrect and word negation hasn't been handled yet."
   ]
  },
  {
   "cell_type": "code",
   "execution_count": 15,
   "metadata": {},
   "outputs": [],
   "source": [
    "train_v2['lemmz_review'] = train_v2['user_review'].apply(lambda x : lemmzify(clean(x)))"
   ]
  },
  {
   "cell_type": "code",
   "execution_count": 24,
   "metadata": {
    "collapsed": true
   },
   "outputs": [
    {
     "data": {
      "text/html": [
       "<div>\n",
       "<style scoped>\n",
       "    .dataframe tbody tr th:only-of-type {\n",
       "        vertical-align: middle;\n",
       "    }\n",
       "\n",
       "    .dataframe tbody tr th {\n",
       "        vertical-align: top;\n",
       "    }\n",
       "\n",
       "    .dataframe thead th {\n",
       "        text-align: right;\n",
       "    }\n",
       "</style>\n",
       "<table border=\"1\" class=\"dataframe\">\n",
       "  <thead>\n",
       "    <tr style=\"text-align: right;\">\n",
       "      <th></th>\n",
       "      <th>review_id</th>\n",
       "      <th>title</th>\n",
       "      <th>year</th>\n",
       "      <th>user_review</th>\n",
       "      <th>user_suggestion</th>\n",
       "      <th>developer</th>\n",
       "      <th>publisher</th>\n",
       "      <th>tags</th>\n",
       "      <th>overview</th>\n",
       "      <th>link_cnt</th>\n",
       "      <th>word_cnt</th>\n",
       "      <th>sent_cnt</th>\n",
       "      <th>lemmz_review</th>\n",
       "    </tr>\n",
       "  </thead>\n",
       "  <tbody>\n",
       "    <tr>\n",
       "      <th>0</th>\n",
       "      <td>1</td>\n",
       "      <td>Spooky's Jump Scare Mansion</td>\n",
       "      <td>2016.0</td>\n",
       "      <td>I'm scared and hearing creepy voices.  So I'll...</td>\n",
       "      <td>1</td>\n",
       "      <td>Lag Studios</td>\n",
       "      <td>Lag Studios</td>\n",
       "      <td>['Horror', 'Free to Play', 'Cute', 'First-Pers...</td>\n",
       "      <td>Can you survive 1000 rooms of cute terror? Or ...</td>\n",
       "      <td>0</td>\n",
       "      <td>152</td>\n",
       "      <td>5</td>\n",
       "      <td>scared hearing creepy voice pause moment write...</td>\n",
       "    </tr>\n",
       "    <tr>\n",
       "      <th>1</th>\n",
       "      <td>2</td>\n",
       "      <td>Spooky's Jump Scare Mansion</td>\n",
       "      <td>2016.0</td>\n",
       "      <td>Best game, more better than Sam Pepper's YouTu...</td>\n",
       "      <td>1</td>\n",
       "      <td>Lag Studios</td>\n",
       "      <td>Lag Studios</td>\n",
       "      <td>['Horror', 'Free to Play', 'Cute', 'First-Pers...</td>\n",
       "      <td>Can you survive 1000 rooms of cute terror? Or ...</td>\n",
       "      <td>0</td>\n",
       "      <td>61</td>\n",
       "      <td>3</td>\n",
       "      <td>best game better sam pepper youtube account ne...</td>\n",
       "    </tr>\n",
       "    <tr>\n",
       "      <th>2</th>\n",
       "      <td>3</td>\n",
       "      <td>Spooky's Jump Scare Mansion</td>\n",
       "      <td>2016.0</td>\n",
       "      <td>A littly iffy on the controls, but once you kn...</td>\n",
       "      <td>1</td>\n",
       "      <td>Lag Studios</td>\n",
       "      <td>Lag Studios</td>\n",
       "      <td>['Horror', 'Free to Play', 'Cute', 'First-Pers...</td>\n",
       "      <td>Can you survive 1000 rooms of cute terror? Or ...</td>\n",
       "      <td>0</td>\n",
       "      <td>84</td>\n",
       "      <td>5</td>\n",
       "      <td>littly iffy control know play easy master made...</td>\n",
       "    </tr>\n",
       "  </tbody>\n",
       "</table>\n",
       "</div>"
      ],
      "text/plain": [
       "   review_id                        title    year  \\\n",
       "0          1  Spooky's Jump Scare Mansion  2016.0   \n",
       "1          2  Spooky's Jump Scare Mansion  2016.0   \n",
       "2          3  Spooky's Jump Scare Mansion  2016.0   \n",
       "\n",
       "                                         user_review  user_suggestion  \\\n",
       "0  I'm scared and hearing creepy voices.  So I'll...                1   \n",
       "1  Best game, more better than Sam Pepper's YouTu...                1   \n",
       "2  A littly iffy on the controls, but once you kn...                1   \n",
       "\n",
       "      developer     publisher  \\\n",
       "0  Lag Studios   Lag Studios    \n",
       "1  Lag Studios   Lag Studios    \n",
       "2  Lag Studios   Lag Studios    \n",
       "\n",
       "                                                tags  \\\n",
       "0  ['Horror', 'Free to Play', 'Cute', 'First-Pers...   \n",
       "1  ['Horror', 'Free to Play', 'Cute', 'First-Pers...   \n",
       "2  ['Horror', 'Free to Play', 'Cute', 'First-Pers...   \n",
       "\n",
       "                                            overview  link_cnt  word_cnt  \\\n",
       "0  Can you survive 1000 rooms of cute terror? Or ...         0       152   \n",
       "1  Can you survive 1000 rooms of cute terror? Or ...         0        61   \n",
       "2  Can you survive 1000 rooms of cute terror? Or ...         0        84   \n",
       "\n",
       "   sent_cnt                                       lemmz_review  \n",
       "0         5  scared hearing creepy voice pause moment write...  \n",
       "1         3  best game better sam pepper youtube account ne...  \n",
       "2         5  littly iffy control know play easy master made...  "
      ]
     },
     "execution_count": 24,
     "metadata": {},
     "output_type": "execute_result"
    }
   ],
   "source": [
    "train_v2.to_pickle('./train_v2.pkl')\n",
    "train_v2.head(3)"
   ]
  },
  {
   "cell_type": "code",
   "execution_count": 25,
   "metadata": {},
   "outputs": [],
   "source": [
    "# Next Steps :\n",
    "# encoding the titles, developer; tags flags; overview lemmatization(and if possible lsa, get 4 hidden concepts)."
   ]
  },
  {
   "cell_type": "code",
   "execution_count": 216,
   "metadata": {
    "collapsed": true
   },
   "outputs": [
    {
     "name": "stdout",
     "output_type": "stream",
     "text": [
      "   title_woe  developer_woe\n",
      "0   1.755931       1.755931\n",
      "1   1.755931       1.755931\n",
      "2   1.755931       1.755931\n",
      "3   1.755931       1.755931\n",
      "4   1.755931       1.755931\n"
     ]
    }
   ],
   "source": [
    "# encoding the titles and developer\n",
    "\n",
    "encode_woe = WOEEncoder()\n",
    "encode_woe.fit(train_v2[['title', 'developer']],train_v2['user_suggestion'])\n",
    "train_woe = encode_woe.transform(train_v2[['title', 'developer']])\n",
    "train_woe.rename(columns={'title':'title_woe', 'developer':'developer_woe'}, inplace=True)\n",
    "print(train_woe.head())\n",
    "with open('encode_woe.pickle','wb') as f:\n",
    "    pickle.dump(encode_woe,f)"
   ]
  },
  {
   "cell_type": "code",
   "execution_count": 108,
   "metadata": {},
   "outputs": [
    {
     "data": {
      "text/plain": [
       "140"
      ]
     },
     "execution_count": 108,
     "metadata": {},
     "output_type": "execute_result"
    }
   ],
   "source": [
    "tags = train_v2['tags'].copy()\n",
    "all_tags =set()\n",
    "for t in tags:\n",
    "    t = re.sub(r'[\\'\\[\\]]', '', t)\n",
    "    t = re.sub(r'\\s+', '', t).split(',')\n",
    "    all_tags = all_tags.union(set(t))\n",
    "len(all_tags) # 140 tags in total, so we better lemmatize tags as well instead of one-hot.\n",
    "#Do keep in mind that tags based tfidf features will have high correlation.\n",
    "#lemmz_tags can be used to categorize games using LSA."
   ]
  },
  {
   "cell_type": "code",
   "execution_count": 113,
   "metadata": {
    "collapsed": true
   },
   "outputs": [
    {
     "data": {
      "text/html": [
       "<div>\n",
       "<style scoped>\n",
       "    .dataframe tbody tr th:only-of-type {\n",
       "        vertical-align: middle;\n",
       "    }\n",
       "\n",
       "    .dataframe tbody tr th {\n",
       "        vertical-align: top;\n",
       "    }\n",
       "\n",
       "    .dataframe thead th {\n",
       "        text-align: right;\n",
       "    }\n",
       "</style>\n",
       "<table border=\"1\" class=\"dataframe\">\n",
       "  <thead>\n",
       "    <tr style=\"text-align: right;\">\n",
       "      <th></th>\n",
       "      <th>review_id</th>\n",
       "      <th>title</th>\n",
       "      <th>year</th>\n",
       "      <th>user_review</th>\n",
       "      <th>user_suggestion</th>\n",
       "      <th>developer</th>\n",
       "      <th>publisher</th>\n",
       "      <th>tags</th>\n",
       "      <th>overview</th>\n",
       "      <th>link_cnt</th>\n",
       "      <th>word_cnt</th>\n",
       "      <th>sent_cnt</th>\n",
       "      <th>lemmz_review</th>\n",
       "      <th>lemmz_tags</th>\n",
       "      <th>lemmz_overview</th>\n",
       "    </tr>\n",
       "  </thead>\n",
       "  <tbody>\n",
       "    <tr>\n",
       "      <th>0</th>\n",
       "      <td>1</td>\n",
       "      <td>Spooky's Jump Scare Mansion</td>\n",
       "      <td>2016.0</td>\n",
       "      <td>I'm scared and hearing creepy voices.  So I'll...</td>\n",
       "      <td>1</td>\n",
       "      <td>Lag Studios</td>\n",
       "      <td>Lag Studios</td>\n",
       "      <td>['Horror', 'Free to Play', 'Cute', 'First-Pers...</td>\n",
       "      <td>Can you survive 1000 rooms of cute terror? Or ...</td>\n",
       "      <td>0</td>\n",
       "      <td>152</td>\n",
       "      <td>5</td>\n",
       "      <td>scared hearing creepy voice pause moment write...</td>\n",
       "      <td>horror free play cute first person isingleplay...</td>\n",
       "      <td>survive room cute terror break cuteness start ...</td>\n",
       "    </tr>\n",
       "    <tr>\n",
       "      <th>1</th>\n",
       "      <td>2</td>\n",
       "      <td>Spooky's Jump Scare Mansion</td>\n",
       "      <td>2016.0</td>\n",
       "      <td>Best game, more better than Sam Pepper's YouTu...</td>\n",
       "      <td>1</td>\n",
       "      <td>Lag Studios</td>\n",
       "      <td>Lag Studios</td>\n",
       "      <td>['Horror', 'Free to Play', 'Cute', 'First-Pers...</td>\n",
       "      <td>Can you survive 1000 rooms of cute terror? Or ...</td>\n",
       "      <td>0</td>\n",
       "      <td>61</td>\n",
       "      <td>3</td>\n",
       "      <td>best game better sam pepper youtube account ne...</td>\n",
       "      <td>horror free play cute first person isingleplay...</td>\n",
       "      <td>survive room cute terror break cuteness start ...</td>\n",
       "    </tr>\n",
       "    <tr>\n",
       "      <th>2</th>\n",
       "      <td>3</td>\n",
       "      <td>Spooky's Jump Scare Mansion</td>\n",
       "      <td>2016.0</td>\n",
       "      <td>A littly iffy on the controls, but once you kn...</td>\n",
       "      <td>1</td>\n",
       "      <td>Lag Studios</td>\n",
       "      <td>Lag Studios</td>\n",
       "      <td>['Horror', 'Free to Play', 'Cute', 'First-Pers...</td>\n",
       "      <td>Can you survive 1000 rooms of cute terror? Or ...</td>\n",
       "      <td>0</td>\n",
       "      <td>84</td>\n",
       "      <td>5</td>\n",
       "      <td>littly iffy control know play easy master made...</td>\n",
       "      <td>horror free play cute first person isingleplay...</td>\n",
       "      <td>survive room cute terror break cuteness start ...</td>\n",
       "    </tr>\n",
       "  </tbody>\n",
       "</table>\n",
       "</div>"
      ],
      "text/plain": [
       "   review_id                        title    year  \\\n",
       "0          1  Spooky's Jump Scare Mansion  2016.0   \n",
       "1          2  Spooky's Jump Scare Mansion  2016.0   \n",
       "2          3  Spooky's Jump Scare Mansion  2016.0   \n",
       "\n",
       "                                         user_review  user_suggestion  \\\n",
       "0  I'm scared and hearing creepy voices.  So I'll...                1   \n",
       "1  Best game, more better than Sam Pepper's YouTu...                1   \n",
       "2  A littly iffy on the controls, but once you kn...                1   \n",
       "\n",
       "      developer     publisher  \\\n",
       "0  Lag Studios   Lag Studios    \n",
       "1  Lag Studios   Lag Studios    \n",
       "2  Lag Studios   Lag Studios    \n",
       "\n",
       "                                                tags  \\\n",
       "0  ['Horror', 'Free to Play', 'Cute', 'First-Pers...   \n",
       "1  ['Horror', 'Free to Play', 'Cute', 'First-Pers...   \n",
       "2  ['Horror', 'Free to Play', 'Cute', 'First-Pers...   \n",
       "\n",
       "                                            overview  link_cnt  word_cnt  \\\n",
       "0  Can you survive 1000 rooms of cute terror? Or ...         0       152   \n",
       "1  Can you survive 1000 rooms of cute terror? Or ...         0        61   \n",
       "2  Can you survive 1000 rooms of cute terror? Or ...         0        84   \n",
       "\n",
       "   sent_cnt                                       lemmz_review  \\\n",
       "0         5  scared hearing creepy voice pause moment write...   \n",
       "1         3  best game better sam pepper youtube account ne...   \n",
       "2         5  littly iffy control know play easy master made...   \n",
       "\n",
       "                                          lemmz_tags  \\\n",
       "0  horror free play cute first person isingleplay...   \n",
       "1  horror free play cute first person isingleplay...   \n",
       "2  horror free play cute first person isingleplay...   \n",
       "\n",
       "                                      lemmz_overview  \n",
       "0  survive room cute terror break cuteness start ...  \n",
       "1  survive room cute terror break cuteness start ...  \n",
       "2  survive room cute terror break cuteness start ...  "
      ]
     },
     "execution_count": 113,
     "metadata": {},
     "output_type": "execute_result"
    }
   ],
   "source": [
    "train_v3 = train_v2.copy()\n",
    "train_v3['lemmz_tags'] = train_v3['tags'].apply(lambda x : lemmzify(clean(x)))\n",
    "train_v3['lemmz_overview'] = train_v3['overview'].apply(lambda x : lemmzify(clean(x)))\n",
    "train_v3.to_pickle('./train_v3.pkl')\n",
    "train_v3.head(3)"
   ]
  },
  {
   "cell_type": "code",
   "execution_count": 145,
   "metadata": {},
   "outputs": [
    {
     "name": "stdout",
     "output_type": "stream",
     "text": [
      "(17494, 365)\n"
     ]
    }
   ],
   "source": [
    "tfidf_review = TfidfVectorizer(min_df=0.03, max_df=0.60, ngram_range=(1,3))\n",
    "X = tfidf_review.fit_transform(train_v3['lemmz_review']).toarray()\n",
    "print(X.shape) # 365 features\n",
    "\n",
    "with open('tfidf_review.pickle','wb') as f:\n",
    "    pickle.dump(tfidf_review,f)"
   ]
  },
  {
   "cell_type": "code",
   "execution_count": 146,
   "metadata": {
    "collapsed": true
   },
   "outputs": [
    {
     "data": {
      "text/html": [
       "<div>\n",
       "<style scoped>\n",
       "    .dataframe tbody tr th:only-of-type {\n",
       "        vertical-align: middle;\n",
       "    }\n",
       "\n",
       "    .dataframe tbody tr th {\n",
       "        vertical-align: top;\n",
       "    }\n",
       "\n",
       "    .dataframe thead th {\n",
       "        text-align: right;\n",
       "    }\n",
       "</style>\n",
       "<table border=\"1\" class=\"dataframe\">\n",
       "  <thead>\n",
       "    <tr style=\"text-align: right;\">\n",
       "      <th></th>\n",
       "      <th>ability</th>\n",
       "      <th>able</th>\n",
       "      <th>absolutely</th>\n",
       "      <th>access</th>\n",
       "      <th>access reviewi</th>\n",
       "      <th>access reviewthis</th>\n",
       "      <th>access reviewthis game</th>\n",
       "      <th>account</th>\n",
       "      <th>action</th>\n",
       "      <th>actually</th>\n",
       "      <th>...</th>\n",
       "      <th>world</th>\n",
       "      <th>worse</th>\n",
       "      <th>worst</th>\n",
       "      <th>worth</th>\n",
       "      <th>would</th>\n",
       "      <th>would recommend</th>\n",
       "      <th>wrong</th>\n",
       "      <th>year</th>\n",
       "      <th>yes</th>\n",
       "      <th>yet</th>\n",
       "    </tr>\n",
       "  </thead>\n",
       "  <tbody>\n",
       "    <tr>\n",
       "      <th>0</th>\n",
       "      <td>0.0</td>\n",
       "      <td>0.0</td>\n",
       "      <td>0.0</td>\n",
       "      <td>0.0</td>\n",
       "      <td>0.0</td>\n",
       "      <td>0.0</td>\n",
       "      <td>0.0</td>\n",
       "      <td>0.00000</td>\n",
       "      <td>0.0</td>\n",
       "      <td>0.0</td>\n",
       "      <td>...</td>\n",
       "      <td>0.0</td>\n",
       "      <td>0.0</td>\n",
       "      <td>0.0</td>\n",
       "      <td>0.0</td>\n",
       "      <td>0.0</td>\n",
       "      <td>0.0</td>\n",
       "      <td>0.0</td>\n",
       "      <td>0.0</td>\n",
       "      <td>0.0</td>\n",
       "      <td>0.000000</td>\n",
       "    </tr>\n",
       "    <tr>\n",
       "      <th>1</th>\n",
       "      <td>0.0</td>\n",
       "      <td>0.0</td>\n",
       "      <td>0.0</td>\n",
       "      <td>0.0</td>\n",
       "      <td>0.0</td>\n",
       "      <td>0.0</td>\n",
       "      <td>0.0</td>\n",
       "      <td>0.31694</td>\n",
       "      <td>0.0</td>\n",
       "      <td>0.0</td>\n",
       "      <td>...</td>\n",
       "      <td>0.0</td>\n",
       "      <td>0.0</td>\n",
       "      <td>0.0</td>\n",
       "      <td>0.0</td>\n",
       "      <td>0.0</td>\n",
       "      <td>0.0</td>\n",
       "      <td>0.0</td>\n",
       "      <td>0.0</td>\n",
       "      <td>0.0</td>\n",
       "      <td>0.284827</td>\n",
       "    </tr>\n",
       "    <tr>\n",
       "      <th>2</th>\n",
       "      <td>0.0</td>\n",
       "      <td>0.0</td>\n",
       "      <td>0.0</td>\n",
       "      <td>0.0</td>\n",
       "      <td>0.0</td>\n",
       "      <td>0.0</td>\n",
       "      <td>0.0</td>\n",
       "      <td>0.00000</td>\n",
       "      <td>0.0</td>\n",
       "      <td>0.0</td>\n",
       "      <td>...</td>\n",
       "      <td>0.0</td>\n",
       "      <td>0.0</td>\n",
       "      <td>0.0</td>\n",
       "      <td>0.0</td>\n",
       "      <td>0.0</td>\n",
       "      <td>0.0</td>\n",
       "      <td>0.0</td>\n",
       "      <td>0.0</td>\n",
       "      <td>0.0</td>\n",
       "      <td>0.000000</td>\n",
       "    </tr>\n",
       "  </tbody>\n",
       "</table>\n",
       "<p>3 rows × 365 columns</p>\n",
       "</div>"
      ],
      "text/plain": [
       "   ability  able  absolutely  access  access reviewi  access reviewthis  \\\n",
       "0      0.0   0.0         0.0     0.0             0.0                0.0   \n",
       "1      0.0   0.0         0.0     0.0             0.0                0.0   \n",
       "2      0.0   0.0         0.0     0.0             0.0                0.0   \n",
       "\n",
       "   access reviewthis game  account  action  actually  ...  world  worse  \\\n",
       "0                     0.0  0.00000     0.0       0.0  ...    0.0    0.0   \n",
       "1                     0.0  0.31694     0.0       0.0  ...    0.0    0.0   \n",
       "2                     0.0  0.00000     0.0       0.0  ...    0.0    0.0   \n",
       "\n",
       "   worst  worth  would  would recommend  wrong  year  yes       yet  \n",
       "0    0.0    0.0    0.0              0.0    0.0   0.0  0.0  0.000000  \n",
       "1    0.0    0.0    0.0              0.0    0.0   0.0  0.0  0.284827  \n",
       "2    0.0    0.0    0.0              0.0    0.0   0.0  0.0  0.000000  \n",
       "\n",
       "[3 rows x 365 columns]"
      ]
     },
     "execution_count": 146,
     "metadata": {},
     "output_type": "execute_result"
    }
   ],
   "source": [
    "review_tfidf = pd.DataFrame(X, columns=tfidf_review.get_feature_names(), index=train_v3.index)\n",
    "review_tfidf.head(3)"
   ]
  },
  {
   "cell_type": "code",
   "execution_count": 207,
   "metadata": {},
   "outputs": [
    {
     "name": "stdout",
     "output_type": "stream",
     "text": [
      "(17494, 143)\n"
     ]
    }
   ],
   "source": [
    "tfidf_tags = TfidfVectorizer(min_df=200,max_df=0.60)\n",
    "X = tfidf_tags.fit_transform(train_v3['lemmz_tags']).toarray()\n",
    "print(X.shape) # 143 features\n",
    "\n",
    "with open('tfidf_tags.pickle','wb') as f:\n",
    "    pickle.dump(tfidf_tags,f)"
   ]
  },
  {
   "cell_type": "code",
   "execution_count": 208,
   "metadata": {},
   "outputs": [
    {
     "name": "stdout",
     "output_type": "stream",
     "text": [
      "0.9412416313790785\n"
     ]
    }
   ],
   "source": [
    "lsa_tags = TruncatedSVD(n_components=30, n_iter=100) #so,it will search for existence of 30 different concepts\n",
    "lsa_tags.fit(X) #SVD done; creates the Vtranspose matrix of SVD(U*S*Vtr.) for tfidf matrix\n",
    "print(lsa_tags.explained_variance_ratio_.sum()) #94% explained in 30 concepts.\n",
    "\n",
    "with open('lsa_tags.pickle','wb') as f:\n",
    "    pickle.dump(lsa_tags,f)"
   ]
  },
  {
   "cell_type": "code",
   "execution_count": 209,
   "metadata": {
    "collapsed": true
   },
   "outputs": [
    {
     "data": {
      "text/html": [
       "<div>\n",
       "<style scoped>\n",
       "    .dataframe tbody tr th:only-of-type {\n",
       "        vertical-align: middle;\n",
       "    }\n",
       "\n",
       "    .dataframe tbody tr th {\n",
       "        vertical-align: top;\n",
       "    }\n",
       "\n",
       "    .dataframe thead th {\n",
       "        text-align: right;\n",
       "    }\n",
       "</style>\n",
       "<table border=\"1\" class=\"dataframe\">\n",
       "  <thead>\n",
       "    <tr style=\"text-align: right;\">\n",
       "      <th></th>\n",
       "      <th>tag_grp1</th>\n",
       "      <th>tag_grp2</th>\n",
       "      <th>tag_grp3</th>\n",
       "      <th>tag_grp4</th>\n",
       "      <th>tag_grp5</th>\n",
       "      <th>tag_grp6</th>\n",
       "      <th>tag_grp7</th>\n",
       "      <th>tag_grp8</th>\n",
       "      <th>tag_grp9</th>\n",
       "      <th>tag_grp10</th>\n",
       "      <th>...</th>\n",
       "      <th>tag_grp21</th>\n",
       "      <th>tag_grp22</th>\n",
       "      <th>tag_grp23</th>\n",
       "      <th>tag_grp24</th>\n",
       "      <th>tag_grp25</th>\n",
       "      <th>tag_grp26</th>\n",
       "      <th>tag_grp27</th>\n",
       "      <th>tag_grp28</th>\n",
       "      <th>tag_grp29</th>\n",
       "      <th>tag_grp30</th>\n",
       "    </tr>\n",
       "  </thead>\n",
       "  <tbody>\n",
       "    <tr>\n",
       "      <th>0</th>\n",
       "      <td>0.281143</td>\n",
       "      <td>-0.00081</td>\n",
       "      <td>-0.073856</td>\n",
       "      <td>-0.183002</td>\n",
       "      <td>-0.125792</td>\n",
       "      <td>-0.227885</td>\n",
       "      <td>0.565898</td>\n",
       "      <td>-0.447452</td>\n",
       "      <td>-0.169335</td>\n",
       "      <td>0.063474</td>\n",
       "      <td>...</td>\n",
       "      <td>0.001835</td>\n",
       "      <td>0.067325</td>\n",
       "      <td>0.113722</td>\n",
       "      <td>0.061869</td>\n",
       "      <td>-0.060336</td>\n",
       "      <td>0.024091</td>\n",
       "      <td>-0.035651</td>\n",
       "      <td>0.200605</td>\n",
       "      <td>0.003918</td>\n",
       "      <td>0.194179</td>\n",
       "    </tr>\n",
       "    <tr>\n",
       "      <th>1</th>\n",
       "      <td>0.281143</td>\n",
       "      <td>-0.00081</td>\n",
       "      <td>-0.073856</td>\n",
       "      <td>-0.183002</td>\n",
       "      <td>-0.125792</td>\n",
       "      <td>-0.227885</td>\n",
       "      <td>0.565898</td>\n",
       "      <td>-0.447452</td>\n",
       "      <td>-0.169335</td>\n",
       "      <td>0.063474</td>\n",
       "      <td>...</td>\n",
       "      <td>0.001835</td>\n",
       "      <td>0.067325</td>\n",
       "      <td>0.113722</td>\n",
       "      <td>0.061869</td>\n",
       "      <td>-0.060336</td>\n",
       "      <td>0.024091</td>\n",
       "      <td>-0.035651</td>\n",
       "      <td>0.200605</td>\n",
       "      <td>0.003918</td>\n",
       "      <td>0.194179</td>\n",
       "    </tr>\n",
       "    <tr>\n",
       "      <th>2</th>\n",
       "      <td>0.281143</td>\n",
       "      <td>-0.00081</td>\n",
       "      <td>-0.073856</td>\n",
       "      <td>-0.183002</td>\n",
       "      <td>-0.125792</td>\n",
       "      <td>-0.227885</td>\n",
       "      <td>0.565898</td>\n",
       "      <td>-0.447452</td>\n",
       "      <td>-0.169335</td>\n",
       "      <td>0.063474</td>\n",
       "      <td>...</td>\n",
       "      <td>0.001835</td>\n",
       "      <td>0.067325</td>\n",
       "      <td>0.113722</td>\n",
       "      <td>0.061869</td>\n",
       "      <td>-0.060336</td>\n",
       "      <td>0.024091</td>\n",
       "      <td>-0.035651</td>\n",
       "      <td>0.200605</td>\n",
       "      <td>0.003918</td>\n",
       "      <td>0.194179</td>\n",
       "    </tr>\n",
       "  </tbody>\n",
       "</table>\n",
       "<p>3 rows × 30 columns</p>\n",
       "</div>"
      ],
      "text/plain": [
       "   tag_grp1  tag_grp2  tag_grp3  tag_grp4  tag_grp5  tag_grp6  tag_grp7  \\\n",
       "0  0.281143  -0.00081 -0.073856 -0.183002 -0.125792 -0.227885  0.565898   \n",
       "1  0.281143  -0.00081 -0.073856 -0.183002 -0.125792 -0.227885  0.565898   \n",
       "2  0.281143  -0.00081 -0.073856 -0.183002 -0.125792 -0.227885  0.565898   \n",
       "\n",
       "   tag_grp8  tag_grp9  tag_grp10  ...  tag_grp21  tag_grp22  tag_grp23  \\\n",
       "0 -0.447452 -0.169335   0.063474  ...   0.001835   0.067325   0.113722   \n",
       "1 -0.447452 -0.169335   0.063474  ...   0.001835   0.067325   0.113722   \n",
       "2 -0.447452 -0.169335   0.063474  ...   0.001835   0.067325   0.113722   \n",
       "\n",
       "   tag_grp24  tag_grp25  tag_grp26  tag_grp27  tag_grp28  tag_grp29  tag_grp30  \n",
       "0   0.061869  -0.060336   0.024091  -0.035651   0.200605   0.003918   0.194179  \n",
       "1   0.061869  -0.060336   0.024091  -0.035651   0.200605   0.003918   0.194179  \n",
       "2   0.061869  -0.060336   0.024091  -0.035651   0.200605   0.003918   0.194179  \n",
       "\n",
       "[3 rows x 30 columns]"
      ]
     },
     "execution_count": 209,
     "metadata": {},
     "output_type": "execute_result"
    }
   ],
   "source": [
    "tags_lsa = pd.DataFrame(lsa_tags.transform(X), columns=[\"tag_grp\"+str(i) for i in range(1,31)], index=train_v3.index)\n",
    "tags_lsa.head(3)"
   ]
  },
  {
   "cell_type": "code",
   "execution_count": 210,
   "metadata": {},
   "outputs": [
    {
     "name": "stdout",
     "output_type": "stream",
     "text": [
      "(17494, 741)\n"
     ]
    }
   ],
   "source": [
    "tfidf_overview = TfidfVectorizer(min_df=0.05,max_df=0.60, ngram_range=(1,2))\n",
    "X = tfidf_overview.fit_transform(train_v3['lemmz_overview']).toarray()\n",
    "print(X.shape) # 741 features\n",
    "\n",
    "with open('tfidf_overview.pickle','wb') as f:\n",
    "    pickle.dump(tfidf_overview,f)"
   ]
  },
  {
   "cell_type": "code",
   "execution_count": 211,
   "metadata": {},
   "outputs": [
    {
     "name": "stdout",
     "output_type": "stream",
     "text": [
      "0.9041102578203466\n"
     ]
    }
   ],
   "source": [
    "lsa_overview = TruncatedSVD(n_components=30, n_iter=100) #so,it will search for existence of 30 different concepts\n",
    "lsa_overview.fit(X) #SVD done; creates the Vtranspose matrix of SVD(U*S*Vtr.) for tfidf matrix\n",
    "print(lsa_overview.explained_variance_ratio_.sum()) #94% explained in 30 concepts.\n",
    "\n",
    "with open('lsa_overview.pickle','wb') as f:\n",
    "    pickle.dump(lsa_overview,f)"
   ]
  },
  {
   "cell_type": "code",
   "execution_count": 213,
   "metadata": {
    "collapsed": true
   },
   "outputs": [
    {
     "data": {
      "text/html": [
       "<div>\n",
       "<style scoped>\n",
       "    .dataframe tbody tr th:only-of-type {\n",
       "        vertical-align: middle;\n",
       "    }\n",
       "\n",
       "    .dataframe tbody tr th {\n",
       "        vertical-align: top;\n",
       "    }\n",
       "\n",
       "    .dataframe thead th {\n",
       "        text-align: right;\n",
       "    }\n",
       "</style>\n",
       "<table border=\"1\" class=\"dataframe\">\n",
       "  <thead>\n",
       "    <tr style=\"text-align: right;\">\n",
       "      <th></th>\n",
       "      <th>overview_grp1</th>\n",
       "      <th>overview_grp2</th>\n",
       "      <th>overview_grp3</th>\n",
       "      <th>overview_grp4</th>\n",
       "      <th>overview_grp5</th>\n",
       "      <th>overview_grp6</th>\n",
       "      <th>overview_grp7</th>\n",
       "      <th>overview_grp8</th>\n",
       "      <th>overview_grp9</th>\n",
       "      <th>overview_grp10</th>\n",
       "      <th>...</th>\n",
       "      <th>overview_grp21</th>\n",
       "      <th>overview_grp22</th>\n",
       "      <th>overview_grp23</th>\n",
       "      <th>overview_grp24</th>\n",
       "      <th>overview_grp25</th>\n",
       "      <th>overview_grp26</th>\n",
       "      <th>overview_grp27</th>\n",
       "      <th>overview_grp28</th>\n",
       "      <th>overview_grp29</th>\n",
       "      <th>overview_grp30</th>\n",
       "    </tr>\n",
       "  </thead>\n",
       "  <tbody>\n",
       "    <tr>\n",
       "      <th>0</th>\n",
       "      <td>0.091323</td>\n",
       "      <td>-0.006355</td>\n",
       "      <td>-0.02203</td>\n",
       "      <td>0.103699</td>\n",
       "      <td>-0.031638</td>\n",
       "      <td>0.029281</td>\n",
       "      <td>-0.119266</td>\n",
       "      <td>0.067962</td>\n",
       "      <td>0.12063</td>\n",
       "      <td>0.08327</td>\n",
       "      <td>...</td>\n",
       "      <td>0.502685</td>\n",
       "      <td>0.126231</td>\n",
       "      <td>-0.355397</td>\n",
       "      <td>-0.16243</td>\n",
       "      <td>-0.130749</td>\n",
       "      <td>-0.157616</td>\n",
       "      <td>0.11516</td>\n",
       "      <td>0.070342</td>\n",
       "      <td>-0.0376</td>\n",
       "      <td>0.073285</td>\n",
       "    </tr>\n",
       "    <tr>\n",
       "      <th>1</th>\n",
       "      <td>0.091323</td>\n",
       "      <td>-0.006355</td>\n",
       "      <td>-0.02203</td>\n",
       "      <td>0.103699</td>\n",
       "      <td>-0.031638</td>\n",
       "      <td>0.029281</td>\n",
       "      <td>-0.119266</td>\n",
       "      <td>0.067962</td>\n",
       "      <td>0.12063</td>\n",
       "      <td>0.08327</td>\n",
       "      <td>...</td>\n",
       "      <td>0.502685</td>\n",
       "      <td>0.126231</td>\n",
       "      <td>-0.355397</td>\n",
       "      <td>-0.16243</td>\n",
       "      <td>-0.130749</td>\n",
       "      <td>-0.157616</td>\n",
       "      <td>0.11516</td>\n",
       "      <td>0.070342</td>\n",
       "      <td>-0.0376</td>\n",
       "      <td>0.073285</td>\n",
       "    </tr>\n",
       "    <tr>\n",
       "      <th>2</th>\n",
       "      <td>0.091323</td>\n",
       "      <td>-0.006355</td>\n",
       "      <td>-0.02203</td>\n",
       "      <td>0.103699</td>\n",
       "      <td>-0.031638</td>\n",
       "      <td>0.029281</td>\n",
       "      <td>-0.119266</td>\n",
       "      <td>0.067962</td>\n",
       "      <td>0.12063</td>\n",
       "      <td>0.08327</td>\n",
       "      <td>...</td>\n",
       "      <td>0.502685</td>\n",
       "      <td>0.126231</td>\n",
       "      <td>-0.355397</td>\n",
       "      <td>-0.16243</td>\n",
       "      <td>-0.130749</td>\n",
       "      <td>-0.157616</td>\n",
       "      <td>0.11516</td>\n",
       "      <td>0.070342</td>\n",
       "      <td>-0.0376</td>\n",
       "      <td>0.073285</td>\n",
       "    </tr>\n",
       "  </tbody>\n",
       "</table>\n",
       "<p>3 rows × 30 columns</p>\n",
       "</div>"
      ],
      "text/plain": [
       "   overview_grp1  overview_grp2  overview_grp3  overview_grp4  overview_grp5  \\\n",
       "0       0.091323      -0.006355       -0.02203       0.103699      -0.031638   \n",
       "1       0.091323      -0.006355       -0.02203       0.103699      -0.031638   \n",
       "2       0.091323      -0.006355       -0.02203       0.103699      -0.031638   \n",
       "\n",
       "   overview_grp6  overview_grp7  overview_grp8  overview_grp9  overview_grp10  \\\n",
       "0       0.029281      -0.119266       0.067962        0.12063         0.08327   \n",
       "1       0.029281      -0.119266       0.067962        0.12063         0.08327   \n",
       "2       0.029281      -0.119266       0.067962        0.12063         0.08327   \n",
       "\n",
       "   ...  overview_grp21  overview_grp22  overview_grp23  overview_grp24  \\\n",
       "0  ...        0.502685        0.126231       -0.355397        -0.16243   \n",
       "1  ...        0.502685        0.126231       -0.355397        -0.16243   \n",
       "2  ...        0.502685        0.126231       -0.355397        -0.16243   \n",
       "\n",
       "   overview_grp25  overview_grp26  overview_grp27  overview_grp28  \\\n",
       "0       -0.130749       -0.157616         0.11516        0.070342   \n",
       "1       -0.130749       -0.157616         0.11516        0.070342   \n",
       "2       -0.130749       -0.157616         0.11516        0.070342   \n",
       "\n",
       "   overview_grp29  overview_grp30  \n",
       "0         -0.0376        0.073285  \n",
       "1         -0.0376        0.073285  \n",
       "2         -0.0376        0.073285  \n",
       "\n",
       "[3 rows x 30 columns]"
      ]
     },
     "execution_count": 213,
     "metadata": {},
     "output_type": "execute_result"
    }
   ],
   "source": [
    "overview_lsa = pd.DataFrame(lsa_overview.transform(X), columns=[\"overview_grp\"+str(i) for i in range(1,31)], index=train_v3.index)\n",
    "overview_lsa.head(3)"
   ]
  },
  {
   "cell_type": "markdown",
   "metadata": {},
   "source": [
    "### Preparing the final train-test datasets"
   ]
  },
  {
   "cell_type": "code",
   "execution_count": 229,
   "metadata": {},
   "outputs": [],
   "source": [
    "train_final = pd.concat([train_v3, train_woe, review_tfidf, tags_lsa, overview_lsa], axis=1)\n",
    "train_final.to_pickle('train_final.pkl')"
   ]
  },
  {
   "cell_type": "code",
   "execution_count": 235,
   "metadata": {},
   "outputs": [],
   "source": [
    "test = test.merge(train_b, on=['title'], how='left')\n",
    "test_v2 = test.copy()\n",
    "\n",
    "# MVI for year\n",
    "test_v2['year']=np.where(test_v2['year'].isna(), MVI_data[test_v2['title']], test_v2['year'])\n",
    "\n",
    "# Adding new features\n",
    "test_v2['link_cnt'] = test_v2['user_review'].apply(lambda x : len(re.findall(r'https?:\\/\\/.*', x.lower())))\n",
    "test_v2['word_cnt'] = test_v2['user_review'].apply(lambda x : len(nltk.word_tokenize(x)))\n",
    "test_v2['sent_cnt'] = test_v2['user_review'].apply(lambda x : len(nltk.sent_tokenize(x)))\n",
    "\n",
    "# WOE encoding\n",
    "test_woe = encode_woe.transform(test_v2[['title', 'developer']])\n",
    "test_woe.rename(columns={'title':'title_woe', 'developer':'developer_woe'}, inplace=True)\n",
    "test_v2 = pd.concat([test_v2, test_woe], axis=1)\n",
    "\n",
    "# Lemmatization\n",
    "test_v2['lemmz_review'] = test_v2['user_review'].apply(lambda x : lemmzify(clean(x)))\n",
    "test_v2['lemmz_tags'] = test_v2['tags'].apply(lambda x : lemmzify(clean(x)))\n",
    "test_v2['lemmz_overview'] = test_v2['overview'].apply(lambda x : lemmzify(clean(x)))\n",
    "\n",
    "test_v2.to_pickle('test_v2.pkl')\n",
    "# a note to self : new developer categories showed up a lot, so its woe won't be of any help at all.\n",
    "# forgot to remove lone characters in sentences before lemmatization. Must have affected tfidf and lsa."
   ]
  },
  {
   "cell_type": "code",
   "execution_count": 248,
   "metadata": {},
   "outputs": [],
   "source": [
    "# TfIdf based features for review\n",
    "X = tfidf_review.transform(test_v2['lemmz_review']).toarray()\n",
    "review_tfidf = pd.DataFrame(X, columns=tfidf_review.get_feature_names(), index=test_v2.index)\n",
    "\n",
    "# LSA based features for tags\n",
    "X = tfidf_tags.transform(test_v2['lemmz_tags']).toarray()\n",
    "tags_lsa = pd.DataFrame(lsa_tags.transform(X), columns=[\"tag_grp\"+str(i) for i in range(1,31)], index=test_v2.index)\n",
    "\n",
    "# LSA based features for overview\n",
    "X = tfidf_overview.transform(test_v2['lemmz_overview']).toarray()\n",
    "overview_lsa = pd.DataFrame(lsa_overview.transform(X), columns=[\"overview_grp\"+str(i) for i in range(1,31)], index=test_v2.index)\n",
    "\n",
    "# Final test data\n",
    "test_final = pd.concat([test_v2, review_tfidf, tags_lsa, overview_lsa], axis=1)\n",
    "test_final.to_pickle('test_final.pkl')"
   ]
  },
  {
   "cell_type": "markdown",
   "metadata": {},
   "source": [
    "### Random Forest Classifier"
   ]
  },
  {
   "cell_type": "code",
   "execution_count": 2,
   "metadata": {},
   "outputs": [
    {
     "name": "stdout",
     "output_type": "stream",
     "text": [
      "(17494, 442) (8045, 441)\n",
      "(17494, 432) (8045, 431)\n"
     ]
    }
   ],
   "source": [
    "train = pd.read_pickle('train_final.pkl')\n",
    "test = pd.read_pickle('test_final.pkl')\n",
    "print(train.shape, test.shape)\n",
    "drop_features=['title', 'user_review', 'developer', 'publisher', 'tags', 'overview', 'lemmz_review', 'lemmz_tags', 'lemmz_overview']\n",
    "train.drop(drop_features, axis=1, inplace=True)\n",
    "test.drop(drop_features, axis=1, inplace=True)\n",
    "print(train.shape, test.shape)"
   ]
  },
  {
   "cell_type": "code",
   "execution_count": 3,
   "metadata": {},
   "outputs": [
    {
     "name": "stdout",
     "output_type": "stream",
     "text": [
      "(13120, 430) (4374, 430) (13120,) (4374,)\n"
     ]
    }
   ],
   "source": [
    "x_train, x_val, y_train, y_val = train_test_split(train.drop(['user_suggestion'], axis=1).iloc[:,1:],\n",
    "                                                  train['user_suggestion'], train_size=0.75)\n",
    "print(x_train.shape, x_val.shape, y_train.shape, y_val.shape)"
   ]
  },
  {
   "cell_type": "code",
   "execution_count": 4,
   "metadata": {},
   "outputs": [
    {
     "name": "stderr",
     "output_type": "stream",
     "text": [
      "[Parallel(n_jobs=1)]: Using backend SequentialBackend with 1 concurrent workers.\n",
      "[Parallel(n_jobs=1)]: Done 200 out of 200 | elapsed:    3.8s finished\n"
     ]
    },
    {
     "data": {
      "text/plain": [
       "RandomForestClassifier(bootstrap=True, ccp_alpha=0.0, class_weight=None,\n",
       "                       criterion='gini', max_depth=None, max_features='sqrt',\n",
       "                       max_leaf_nodes=None, max_samples=None,\n",
       "                       min_impurity_decrease=0.0, min_impurity_split=None,\n",
       "                       min_samples_leaf=1, min_samples_split=0.05,\n",
       "                       min_weight_fraction_leaf=0.0, n_estimators=200,\n",
       "                       n_jobs=None, oob_score=False, random_state=None,\n",
       "                       verbose=1, warm_start=False)"
      ]
     },
     "execution_count": 4,
     "metadata": {},
     "output_type": "execute_result"
    }
   ],
   "source": [
    "model = RandomForestClassifier(n_estimators=200, min_samples_split=0.05, verbose=1, max_features='sqrt')\n",
    "model.fit(x_train, y_train)"
   ]
  },
  {
   "cell_type": "code",
   "execution_count": 7,
   "metadata": {},
   "outputs": [
    {
     "name": "stderr",
     "output_type": "stream",
     "text": [
      "[Parallel(n_jobs=1)]: Using backend SequentialBackend with 1 concurrent workers.\n",
      "[Parallel(n_jobs=1)]: Done 200 out of 200 | elapsed:    0.0s finished\n"
     ]
    },
    {
     "data": {
      "text/plain": [
       "0.7501143118427069"
      ]
     },
     "execution_count": 7,
     "metadata": {},
     "output_type": "execute_result"
    }
   ],
   "source": [
    "pred = model.predict(x_val)\n",
    "accuracy_score(y_val, pred)"
   ]
  },
  {
   "cell_type": "code",
   "execution_count": 8,
   "metadata": {},
   "outputs": [
    {
     "ename": "ValueError",
     "evalue": "Input contains NaN, infinity or a value too large for dtype('float32').",
     "output_type": "error",
     "traceback": [
      "\u001b[1;31m---------------------------------------------------------------------------\u001b[0m",
      "\u001b[1;31mValueError\u001b[0m                                Traceback (most recent call last)",
      "\u001b[1;32m<ipython-input-8-d9b7eb10e185>\u001b[0m in \u001b[0;36m<module>\u001b[1;34m\u001b[0m\n\u001b[0;32m      1\u001b[0m \u001b[1;31m# Generating Submissions\u001b[0m\u001b[1;33m\u001b[0m\u001b[1;33m\u001b[0m\u001b[1;33m\u001b[0m\u001b[0m\n\u001b[1;32m----> 2\u001b[1;33m \u001b[0mpred\u001b[0m \u001b[1;33m=\u001b[0m \u001b[0mmodel\u001b[0m\u001b[1;33m.\u001b[0m\u001b[0mpredict\u001b[0m\u001b[1;33m(\u001b[0m\u001b[0mtest\u001b[0m\u001b[1;33m.\u001b[0m\u001b[0miloc\u001b[0m\u001b[1;33m[\u001b[0m\u001b[1;33m:\u001b[0m\u001b[1;33m,\u001b[0m\u001b[1;36m1\u001b[0m\u001b[1;33m:\u001b[0m\u001b[1;33m]\u001b[0m\u001b[1;33m)\u001b[0m\u001b[1;33m\u001b[0m\u001b[1;33m\u001b[0m\u001b[0m\n\u001b[0m\u001b[0;32m      3\u001b[0m \u001b[1;33m\u001b[0m\u001b[0m\n\u001b[0;32m      4\u001b[0m submission05 = pd.DataFrame({'review_id' : list(test['review_id']),\n\u001b[0;32m      5\u001b[0m                             'user_suggestion' : list(pred)})\n",
      "\u001b[1;32mC:\\Anaconda3\\envs\\kaggle_py3p7\\lib\\site-packages\\sklearn\\ensemble\\_forest.py\u001b[0m in \u001b[0;36mpredict\u001b[1;34m(self, X)\u001b[0m\n\u001b[0;32m    610\u001b[0m             \u001b[0mThe\u001b[0m \u001b[0mpredicted\u001b[0m \u001b[0mclasses\u001b[0m\u001b[1;33m.\u001b[0m\u001b[1;33m\u001b[0m\u001b[1;33m\u001b[0m\u001b[0m\n\u001b[0;32m    611\u001b[0m         \"\"\"\n\u001b[1;32m--> 612\u001b[1;33m         \u001b[0mproba\u001b[0m \u001b[1;33m=\u001b[0m \u001b[0mself\u001b[0m\u001b[1;33m.\u001b[0m\u001b[0mpredict_proba\u001b[0m\u001b[1;33m(\u001b[0m\u001b[0mX\u001b[0m\u001b[1;33m)\u001b[0m\u001b[1;33m\u001b[0m\u001b[1;33m\u001b[0m\u001b[0m\n\u001b[0m\u001b[0;32m    613\u001b[0m \u001b[1;33m\u001b[0m\u001b[0m\n\u001b[0;32m    614\u001b[0m         \u001b[1;32mif\u001b[0m \u001b[0mself\u001b[0m\u001b[1;33m.\u001b[0m\u001b[0mn_outputs_\u001b[0m \u001b[1;33m==\u001b[0m \u001b[1;36m1\u001b[0m\u001b[1;33m:\u001b[0m\u001b[1;33m\u001b[0m\u001b[1;33m\u001b[0m\u001b[0m\n",
      "\u001b[1;32mC:\\Anaconda3\\envs\\kaggle_py3p7\\lib\\site-packages\\sklearn\\ensemble\\_forest.py\u001b[0m in \u001b[0;36mpredict_proba\u001b[1;34m(self, X)\u001b[0m\n\u001b[0;32m    654\u001b[0m         \u001b[0mcheck_is_fitted\u001b[0m\u001b[1;33m(\u001b[0m\u001b[0mself\u001b[0m\u001b[1;33m)\u001b[0m\u001b[1;33m\u001b[0m\u001b[1;33m\u001b[0m\u001b[0m\n\u001b[0;32m    655\u001b[0m         \u001b[1;31m# Check data\u001b[0m\u001b[1;33m\u001b[0m\u001b[1;33m\u001b[0m\u001b[1;33m\u001b[0m\u001b[0m\n\u001b[1;32m--> 656\u001b[1;33m         \u001b[0mX\u001b[0m \u001b[1;33m=\u001b[0m \u001b[0mself\u001b[0m\u001b[1;33m.\u001b[0m\u001b[0m_validate_X_predict\u001b[0m\u001b[1;33m(\u001b[0m\u001b[0mX\u001b[0m\u001b[1;33m)\u001b[0m\u001b[1;33m\u001b[0m\u001b[1;33m\u001b[0m\u001b[0m\n\u001b[0m\u001b[0;32m    657\u001b[0m \u001b[1;33m\u001b[0m\u001b[0m\n\u001b[0;32m    658\u001b[0m         \u001b[1;31m# Assign chunk of trees to jobs\u001b[0m\u001b[1;33m\u001b[0m\u001b[1;33m\u001b[0m\u001b[1;33m\u001b[0m\u001b[0m\n",
      "\u001b[1;32mC:\\Anaconda3\\envs\\kaggle_py3p7\\lib\\site-packages\\sklearn\\ensemble\\_forest.py\u001b[0m in \u001b[0;36m_validate_X_predict\u001b[1;34m(self, X)\u001b[0m\n\u001b[0;32m    410\u001b[0m         \u001b[0mcheck_is_fitted\u001b[0m\u001b[1;33m(\u001b[0m\u001b[0mself\u001b[0m\u001b[1;33m)\u001b[0m\u001b[1;33m\u001b[0m\u001b[1;33m\u001b[0m\u001b[0m\n\u001b[0;32m    411\u001b[0m \u001b[1;33m\u001b[0m\u001b[0m\n\u001b[1;32m--> 412\u001b[1;33m         \u001b[1;32mreturn\u001b[0m \u001b[0mself\u001b[0m\u001b[1;33m.\u001b[0m\u001b[0mestimators_\u001b[0m\u001b[1;33m[\u001b[0m\u001b[1;36m0\u001b[0m\u001b[1;33m]\u001b[0m\u001b[1;33m.\u001b[0m\u001b[0m_validate_X_predict\u001b[0m\u001b[1;33m(\u001b[0m\u001b[0mX\u001b[0m\u001b[1;33m,\u001b[0m \u001b[0mcheck_input\u001b[0m\u001b[1;33m=\u001b[0m\u001b[1;32mTrue\u001b[0m\u001b[1;33m)\u001b[0m\u001b[1;33m\u001b[0m\u001b[1;33m\u001b[0m\u001b[0m\n\u001b[0m\u001b[0;32m    413\u001b[0m \u001b[1;33m\u001b[0m\u001b[0m\n\u001b[0;32m    414\u001b[0m     \u001b[1;33m@\u001b[0m\u001b[0mproperty\u001b[0m\u001b[1;33m\u001b[0m\u001b[1;33m\u001b[0m\u001b[0m\n",
      "\u001b[1;32mC:\\Anaconda3\\envs\\kaggle_py3p7\\lib\\site-packages\\sklearn\\tree\\_classes.py\u001b[0m in \u001b[0;36m_validate_X_predict\u001b[1;34m(self, X, check_input)\u001b[0m\n\u001b[0;32m    378\u001b[0m         \u001b[1;34m\"\"\"Validate X whenever one tries to predict, apply, predict_proba\"\"\"\u001b[0m\u001b[1;33m\u001b[0m\u001b[1;33m\u001b[0m\u001b[0m\n\u001b[0;32m    379\u001b[0m         \u001b[1;32mif\u001b[0m \u001b[0mcheck_input\u001b[0m\u001b[1;33m:\u001b[0m\u001b[1;33m\u001b[0m\u001b[1;33m\u001b[0m\u001b[0m\n\u001b[1;32m--> 380\u001b[1;33m             \u001b[0mX\u001b[0m \u001b[1;33m=\u001b[0m \u001b[0mcheck_array\u001b[0m\u001b[1;33m(\u001b[0m\u001b[0mX\u001b[0m\u001b[1;33m,\u001b[0m \u001b[0mdtype\u001b[0m\u001b[1;33m=\u001b[0m\u001b[0mDTYPE\u001b[0m\u001b[1;33m,\u001b[0m \u001b[0maccept_sparse\u001b[0m\u001b[1;33m=\u001b[0m\u001b[1;34m\"csr\"\u001b[0m\u001b[1;33m)\u001b[0m\u001b[1;33m\u001b[0m\u001b[1;33m\u001b[0m\u001b[0m\n\u001b[0m\u001b[0;32m    381\u001b[0m             if issparse(X) and (X.indices.dtype != np.intc or\n\u001b[0;32m    382\u001b[0m                                 X.indptr.dtype != np.intc):\n",
      "\u001b[1;32mC:\\Anaconda3\\envs\\kaggle_py3p7\\lib\\site-packages\\sklearn\\utils\\validation.py\u001b[0m in \u001b[0;36mcheck_array\u001b[1;34m(array, accept_sparse, accept_large_sparse, dtype, order, copy, force_all_finite, ensure_2d, allow_nd, ensure_min_samples, ensure_min_features, warn_on_dtype, estimator)\u001b[0m\n\u001b[0;32m    576\u001b[0m         \u001b[1;32mif\u001b[0m \u001b[0mforce_all_finite\u001b[0m\u001b[1;33m:\u001b[0m\u001b[1;33m\u001b[0m\u001b[1;33m\u001b[0m\u001b[0m\n\u001b[0;32m    577\u001b[0m             _assert_all_finite(array,\n\u001b[1;32m--> 578\u001b[1;33m                                allow_nan=force_all_finite == 'allow-nan')\n\u001b[0m\u001b[0;32m    579\u001b[0m \u001b[1;33m\u001b[0m\u001b[0m\n\u001b[0;32m    580\u001b[0m     \u001b[1;32mif\u001b[0m \u001b[0mensure_min_samples\u001b[0m \u001b[1;33m>\u001b[0m \u001b[1;36m0\u001b[0m\u001b[1;33m:\u001b[0m\u001b[1;33m\u001b[0m\u001b[1;33m\u001b[0m\u001b[0m\n",
      "\u001b[1;32mC:\\Anaconda3\\envs\\kaggle_py3p7\\lib\\site-packages\\sklearn\\utils\\validation.py\u001b[0m in \u001b[0;36m_assert_all_finite\u001b[1;34m(X, allow_nan, msg_dtype)\u001b[0m\n\u001b[0;32m     58\u001b[0m                     \u001b[0mmsg_err\u001b[0m\u001b[1;33m.\u001b[0m\u001b[0mformat\u001b[0m\u001b[1;33m\u001b[0m\u001b[1;33m\u001b[0m\u001b[0m\n\u001b[0;32m     59\u001b[0m                     (type_err,\n\u001b[1;32m---> 60\u001b[1;33m                      msg_dtype if msg_dtype is not None else X.dtype)\n\u001b[0m\u001b[0;32m     61\u001b[0m             )\n\u001b[0;32m     62\u001b[0m     \u001b[1;31m# for object dtype data, we only check for NaNs (GH-13254)\u001b[0m\u001b[1;33m\u001b[0m\u001b[1;33m\u001b[0m\u001b[1;33m\u001b[0m\u001b[0m\n",
      "\u001b[1;31mValueError\u001b[0m: Input contains NaN, infinity or a value too large for dtype('float32')."
     ]
    }
   ],
   "source": [
    "# Generating Submissions\n",
    "pred = model.predict(test.iloc[:,1:])\n",
    "\n",
    "submission05 = pd.DataFrame({'review_id' : list(test['review_id']),\n",
    "                            'user_suggestion' : list(pred)})\n",
    "submission05.to_csv('submission05.csv', index=False)"
   ]
  },
  {
   "cell_type": "code",
   "execution_count": null,
   "metadata": {},
   "outputs": [],
   "source": []
  }
 ],
 "metadata": {
  "kernelspec": {
   "display_name": "Python 3",
   "language": "python",
   "name": "python3"
  },
  "language_info": {
   "codemirror_mode": {
    "name": "ipython",
    "version": 3
   },
   "file_extension": ".py",
   "mimetype": "text/x-python",
   "name": "python",
   "nbconvert_exporter": "python",
   "pygments_lexer": "ipython3",
   "version": "3.7.6"
  }
 },
 "nbformat": 4,
 "nbformat_minor": 4
}
